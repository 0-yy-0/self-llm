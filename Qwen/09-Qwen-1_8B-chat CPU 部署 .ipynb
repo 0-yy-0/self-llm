{
 "cells": [
  {
   "cell_type": "markdown",
   "metadata": {},
   "source": [
    "# 09-Qwen-1_8B-chat CPU 部署"
   ]
  },
  {
   "cell_type": "markdown",
   "metadata": {},
   "source": [
    "## 概述\n",
    "\n",
    "本文介绍了在 Intel 设备上部署 Qwen 1.8B 模型的过程，你需要至少16GB内存的机器来完成这项任务，我们将使用英特尔的大模型推理库 [BigDL](https://github.com/intel-analytics/BigDL) 来实现完整过程。\n",
    "\n",
    "Bigdl-llm 是一个在英特尔设备上运行 LLM（大语言模型）的加速库，通过 INT4/FP4/INT8/FP8 精度量化和架构针对性优化以实现大模型在 英特尔 CPU、GPU上的低资源占用与高速推理能力（适用于任何 PyTorch 模型）。\n",
    "\n",
    "本文演示为了通用性，只涉及 CPU 相关的代码，如果你想学习如何在 Intel GPU 上部署大模型，可以参考[官网文档](https://bigdl.readthedocs.io/en/latest/doc/LLM/Overview/install_gpu.html)。"
   ]
  },
  {
   "cell_type": "markdown",
   "metadata": {},
   "source": [
    "## 环境配置\n",
    "\n",
    "在开始之前，我们需要准备好 bigdl-llm 以及之后部署的相关运行环境，我们推荐你在 python 3.9 的环境中进行之后的操作。\n",
    "\n",
    "如果你发现下载速度过慢，可以尝试更换默认镜像源：`pip config set global.index-url https://pypi.doubanio.com/simple`"
   ]
  },
  {
   "cell_type": "code",
   "execution_count": 8,
   "metadata": {},
   "outputs": [
    {
     "name": "stdout",
     "output_type": "stream",
     "text": [
      "Looking in indexes: https://pypi.doubanio.com/simple\n",
      "Requirement already satisfied: bigdl-llm[all] in /home/sanbu/anaconda3/envs/bigdltest/lib/python3.9/site-packages (2.5.0b20231217)\n",
      "Requirement already satisfied: py-cpuinfo in /home/sanbu/anaconda3/envs/bigdltest/lib/python3.9/site-packages (from bigdl-llm[all]) (9.0.0)\n",
      "Requirement already satisfied: protobuf in /home/sanbu/anaconda3/envs/bigdltest/lib/python3.9/site-packages (from bigdl-llm[all]) (4.25.1)\n",
      "Requirement already satisfied: numpy>=1.22 in /home/sanbu/anaconda3/envs/bigdltest/lib/python3.9/site-packages (from bigdl-llm[all]) (1.26.2)\n",
      "Requirement already satisfied: torch in /home/sanbu/anaconda3/envs/bigdltest/lib/python3.9/site-packages (from bigdl-llm[all]) (2.1.2)\n",
      "Requirement already satisfied: transformers==4.31.0 in /home/sanbu/anaconda3/envs/bigdltest/lib/python3.9/site-packages (from bigdl-llm[all]) (4.31.0)\n",
      "Requirement already satisfied: sentencepiece in /home/sanbu/anaconda3/envs/bigdltest/lib/python3.9/site-packages (from bigdl-llm[all]) (0.1.99)\n",
      "Requirement already satisfied: tokenizers==0.13.3 in /home/sanbu/anaconda3/envs/bigdltest/lib/python3.9/site-packages (from bigdl-llm[all]) (0.13.3)\n",
      "Requirement already satisfied: accelerate==0.21.0 in /home/sanbu/anaconda3/envs/bigdltest/lib/python3.9/site-packages (from bigdl-llm[all]) (0.21.0)\n",
      "Requirement already satisfied: tabulate in /home/sanbu/anaconda3/envs/bigdltest/lib/python3.9/site-packages (from bigdl-llm[all]) (0.9.0)\n",
      "Requirement already satisfied: intel-openmp in /home/sanbu/anaconda3/envs/bigdltest/lib/python3.9/site-packages (from bigdl-llm[all]) (2024.0.1)\n",
      "Requirement already satisfied: packaging>=20.0 in /home/sanbu/anaconda3/envs/bigdltest/lib/python3.9/site-packages (from accelerate==0.21.0->bigdl-llm[all]) (23.2)\n",
      "Requirement already satisfied: psutil in /home/sanbu/anaconda3/envs/bigdltest/lib/python3.9/site-packages (from accelerate==0.21.0->bigdl-llm[all]) (5.9.7)\n",
      "Requirement already satisfied: pyyaml in /home/sanbu/anaconda3/envs/bigdltest/lib/python3.9/site-packages (from accelerate==0.21.0->bigdl-llm[all]) (6.0.1)\n",
      "Requirement already satisfied: filelock in /home/sanbu/anaconda3/envs/bigdltest/lib/python3.9/site-packages (from transformers==4.31.0->bigdl-llm[all]) (3.13.1)\n",
      "Requirement already satisfied: huggingface-hub<1.0,>=0.14.1 in /home/sanbu/anaconda3/envs/bigdltest/lib/python3.9/site-packages (from transformers==4.31.0->bigdl-llm[all]) (0.19.4)\n",
      "Requirement already satisfied: regex!=2019.12.17 in /home/sanbu/anaconda3/envs/bigdltest/lib/python3.9/site-packages (from transformers==4.31.0->bigdl-llm[all]) (2023.10.3)\n",
      "Requirement already satisfied: requests in /home/sanbu/anaconda3/envs/bigdltest/lib/python3.9/site-packages (from transformers==4.31.0->bigdl-llm[all]) (2.31.0)\n",
      "Requirement already satisfied: safetensors>=0.3.1 in /home/sanbu/anaconda3/envs/bigdltest/lib/python3.9/site-packages (from transformers==4.31.0->bigdl-llm[all]) (0.4.1)\n",
      "Requirement already satisfied: tqdm>=4.27 in /home/sanbu/anaconda3/envs/bigdltest/lib/python3.9/site-packages (from transformers==4.31.0->bigdl-llm[all]) (4.66.1)\n",
      "Requirement already satisfied: typing-extensions in /home/sanbu/anaconda3/envs/bigdltest/lib/python3.9/site-packages (from torch->bigdl-llm[all]) (4.9.0)\n",
      "Requirement already satisfied: sympy in /home/sanbu/anaconda3/envs/bigdltest/lib/python3.9/site-packages (from torch->bigdl-llm[all]) (1.12)\n",
      "Requirement already satisfied: networkx in /home/sanbu/anaconda3/envs/bigdltest/lib/python3.9/site-packages (from torch->bigdl-llm[all]) (3.2.1)\n",
      "Requirement already satisfied: jinja2 in /home/sanbu/anaconda3/envs/bigdltest/lib/python3.9/site-packages (from torch->bigdl-llm[all]) (3.1.2)\n",
      "Requirement already satisfied: fsspec in /home/sanbu/anaconda3/envs/bigdltest/lib/python3.9/site-packages (from torch->bigdl-llm[all]) (2023.12.2)\n",
      "Requirement already satisfied: nvidia-cuda-nvrtc-cu12==12.1.105 in /home/sanbu/anaconda3/envs/bigdltest/lib/python3.9/site-packages (from torch->bigdl-llm[all]) (12.1.105)\n",
      "Requirement already satisfied: nvidia-cuda-runtime-cu12==12.1.105 in /home/sanbu/anaconda3/envs/bigdltest/lib/python3.9/site-packages (from torch->bigdl-llm[all]) (12.1.105)\n",
      "Requirement already satisfied: nvidia-cuda-cupti-cu12==12.1.105 in /home/sanbu/anaconda3/envs/bigdltest/lib/python3.9/site-packages (from torch->bigdl-llm[all]) (12.1.105)\n",
      "Requirement already satisfied: nvidia-cudnn-cu12==8.9.2.26 in /home/sanbu/anaconda3/envs/bigdltest/lib/python3.9/site-packages (from torch->bigdl-llm[all]) (8.9.2.26)\n",
      "Requirement already satisfied: nvidia-cublas-cu12==12.1.3.1 in /home/sanbu/anaconda3/envs/bigdltest/lib/python3.9/site-packages (from torch->bigdl-llm[all]) (12.1.3.1)\n",
      "Requirement already satisfied: nvidia-cufft-cu12==11.0.2.54 in /home/sanbu/anaconda3/envs/bigdltest/lib/python3.9/site-packages (from torch->bigdl-llm[all]) (11.0.2.54)\n",
      "Requirement already satisfied: nvidia-curand-cu12==10.3.2.106 in /home/sanbu/anaconda3/envs/bigdltest/lib/python3.9/site-packages (from torch->bigdl-llm[all]) (10.3.2.106)\n",
      "Requirement already satisfied: nvidia-cusolver-cu12==11.4.5.107 in /home/sanbu/anaconda3/envs/bigdltest/lib/python3.9/site-packages (from torch->bigdl-llm[all]) (11.4.5.107)\n",
      "Requirement already satisfied: nvidia-cusparse-cu12==12.1.0.106 in /home/sanbu/anaconda3/envs/bigdltest/lib/python3.9/site-packages (from torch->bigdl-llm[all]) (12.1.0.106)\n",
      "Requirement already satisfied: nvidia-nccl-cu12==2.18.1 in /home/sanbu/anaconda3/envs/bigdltest/lib/python3.9/site-packages (from torch->bigdl-llm[all]) (2.18.1)\n",
      "Requirement already satisfied: nvidia-nvtx-cu12==12.1.105 in /home/sanbu/anaconda3/envs/bigdltest/lib/python3.9/site-packages (from torch->bigdl-llm[all]) (12.1.105)\n",
      "Requirement already satisfied: triton==2.1.0 in /home/sanbu/anaconda3/envs/bigdltest/lib/python3.9/site-packages (from torch->bigdl-llm[all]) (2.1.0)\n",
      "Requirement already satisfied: nvidia-nvjitlink-cu12 in /home/sanbu/anaconda3/envs/bigdltest/lib/python3.9/site-packages (from nvidia-cusolver-cu12==11.4.5.107->torch->bigdl-llm[all]) (12.3.101)\n",
      "Requirement already satisfied: MarkupSafe>=2.0 in /home/sanbu/anaconda3/envs/bigdltest/lib/python3.9/site-packages (from jinja2->torch->bigdl-llm[all]) (2.1.3)\n",
      "Requirement already satisfied: charset-normalizer<4,>=2 in /home/sanbu/anaconda3/envs/bigdltest/lib/python3.9/site-packages (from requests->transformers==4.31.0->bigdl-llm[all]) (3.3.2)\n",
      "Requirement already satisfied: idna<4,>=2.5 in /home/sanbu/anaconda3/envs/bigdltest/lib/python3.9/site-packages (from requests->transformers==4.31.0->bigdl-llm[all]) (3.6)\n",
      "Requirement already satisfied: urllib3<3,>=1.21.1 in /home/sanbu/anaconda3/envs/bigdltest/lib/python3.9/site-packages (from requests->transformers==4.31.0->bigdl-llm[all]) (2.1.0)\n",
      "Requirement already satisfied: certifi>=2017.4.17 in /home/sanbu/anaconda3/envs/bigdltest/lib/python3.9/site-packages (from requests->transformers==4.31.0->bigdl-llm[all]) (2023.11.17)\n",
      "Requirement already satisfied: mpmath>=0.19 in /home/sanbu/anaconda3/envs/bigdltest/lib/python3.9/site-packages (from sympy->torch->bigdl-llm[all]) (1.3.0)\n",
      "Note: you may need to restart the kernel to use updated packages.\n",
      "Looking in indexes: https://pypi.doubanio.com/simple\n",
      "Requirement already satisfied: gradio in /home/sanbu/anaconda3/envs/bigdltest/lib/python3.9/site-packages (4.10.0)\n",
      "Requirement already satisfied: aiofiles<24.0,>=22.0 in /home/sanbu/anaconda3/envs/bigdltest/lib/python3.9/site-packages (from gradio) (23.2.1)\n",
      "Requirement already satisfied: altair<6.0,>=4.2.0 in /home/sanbu/anaconda3/envs/bigdltest/lib/python3.9/site-packages (from gradio) (5.2.0)\n",
      "Requirement already satisfied: fastapi in /home/sanbu/anaconda3/envs/bigdltest/lib/python3.9/site-packages (from gradio) (0.105.0)\n",
      "Requirement already satisfied: ffmpy in /home/sanbu/anaconda3/envs/bigdltest/lib/python3.9/site-packages (from gradio) (0.3.1)\n",
      "Requirement already satisfied: gradio-client==0.7.3 in /home/sanbu/anaconda3/envs/bigdltest/lib/python3.9/site-packages (from gradio) (0.7.3)\n",
      "Requirement already satisfied: httpx in /home/sanbu/anaconda3/envs/bigdltest/lib/python3.9/site-packages (from gradio) (0.25.2)\n",
      "Requirement already satisfied: huggingface-hub>=0.19.3 in /home/sanbu/anaconda3/envs/bigdltest/lib/python3.9/site-packages (from gradio) (0.19.4)\n",
      "Requirement already satisfied: importlib-resources<7.0,>=1.3 in /home/sanbu/anaconda3/envs/bigdltest/lib/python3.9/site-packages (from gradio) (6.1.1)\n",
      "Requirement already satisfied: jinja2<4.0 in /home/sanbu/anaconda3/envs/bigdltest/lib/python3.9/site-packages (from gradio) (3.1.2)\n",
      "Requirement already satisfied: markupsafe~=2.0 in /home/sanbu/anaconda3/envs/bigdltest/lib/python3.9/site-packages (from gradio) (2.1.3)\n",
      "Requirement already satisfied: matplotlib~=3.0 in /home/sanbu/anaconda3/envs/bigdltest/lib/python3.9/site-packages (from gradio) (3.8.2)\n",
      "Requirement already satisfied: numpy~=1.0 in /home/sanbu/anaconda3/envs/bigdltest/lib/python3.9/site-packages (from gradio) (1.26.2)\n",
      "Requirement already satisfied: orjson~=3.0 in /home/sanbu/anaconda3/envs/bigdltest/lib/python3.9/site-packages (from gradio) (3.9.10)\n",
      "Requirement already satisfied: packaging in /home/sanbu/anaconda3/envs/bigdltest/lib/python3.9/site-packages (from gradio) (23.2)\n",
      "Requirement already satisfied: pandas<3.0,>=1.0 in /home/sanbu/anaconda3/envs/bigdltest/lib/python3.9/site-packages (from gradio) (2.1.4)\n",
      "Requirement already satisfied: pillow<11.0,>=8.0 in /home/sanbu/anaconda3/envs/bigdltest/lib/python3.9/site-packages (from gradio) (10.1.0)\n",
      "Requirement already satisfied: pydantic>=2.0 in /home/sanbu/anaconda3/envs/bigdltest/lib/python3.9/site-packages (from gradio) (2.5.2)\n",
      "Requirement already satisfied: pydub in /home/sanbu/anaconda3/envs/bigdltest/lib/python3.9/site-packages (from gradio) (0.25.1)\n",
      "Requirement already satisfied: python-multipart in /home/sanbu/anaconda3/envs/bigdltest/lib/python3.9/site-packages (from gradio) (0.0.6)\n",
      "Requirement already satisfied: pyyaml<7.0,>=5.0 in /home/sanbu/anaconda3/envs/bigdltest/lib/python3.9/site-packages (from gradio) (6.0.1)\n",
      "Requirement already satisfied: semantic-version~=2.0 in /home/sanbu/anaconda3/envs/bigdltest/lib/python3.9/site-packages (from gradio) (2.10.0)\n",
      "Requirement already satisfied: tomlkit==0.12.0 in /home/sanbu/anaconda3/envs/bigdltest/lib/python3.9/site-packages (from gradio) (0.12.0)\n",
      "Requirement already satisfied: typer<1.0,>=0.9 in /home/sanbu/anaconda3/envs/bigdltest/lib/python3.9/site-packages (from typer[all]<1.0,>=0.9->gradio) (0.9.0)\n",
      "Requirement already satisfied: typing-extensions~=4.0 in /home/sanbu/anaconda3/envs/bigdltest/lib/python3.9/site-packages (from gradio) (4.9.0)\n",
      "Requirement already satisfied: uvicorn>=0.14.0 in /home/sanbu/anaconda3/envs/bigdltest/lib/python3.9/site-packages (from gradio) (0.24.0.post1)\n",
      "Requirement already satisfied: fsspec in /home/sanbu/anaconda3/envs/bigdltest/lib/python3.9/site-packages (from gradio-client==0.7.3->gradio) (2023.12.2)\n",
      "Requirement already satisfied: websockets<12.0,>=10.0 in /home/sanbu/anaconda3/envs/bigdltest/lib/python3.9/site-packages (from gradio-client==0.7.3->gradio) (11.0.3)\n",
      "Requirement already satisfied: jsonschema>=3.0 in /home/sanbu/anaconda3/envs/bigdltest/lib/python3.9/site-packages (from altair<6.0,>=4.2.0->gradio) (4.20.0)\n",
      "Requirement already satisfied: toolz in /home/sanbu/anaconda3/envs/bigdltest/lib/python3.9/site-packages (from altair<6.0,>=4.2.0->gradio) (0.12.0)\n",
      "Requirement already satisfied: filelock in /home/sanbu/anaconda3/envs/bigdltest/lib/python3.9/site-packages (from huggingface-hub>=0.19.3->gradio) (3.13.1)\n",
      "Requirement already satisfied: requests in /home/sanbu/anaconda3/envs/bigdltest/lib/python3.9/site-packages (from huggingface-hub>=0.19.3->gradio) (2.31.0)\n",
      "Requirement already satisfied: tqdm>=4.42.1 in /home/sanbu/anaconda3/envs/bigdltest/lib/python3.9/site-packages (from huggingface-hub>=0.19.3->gradio) (4.66.1)\n",
      "Requirement already satisfied: zipp>=3.1.0 in /home/sanbu/anaconda3/envs/bigdltest/lib/python3.9/site-packages (from importlib-resources<7.0,>=1.3->gradio) (3.17.0)\n",
      "Requirement already satisfied: contourpy>=1.0.1 in /home/sanbu/anaconda3/envs/bigdltest/lib/python3.9/site-packages (from matplotlib~=3.0->gradio) (1.2.0)\n",
      "Requirement already satisfied: cycler>=0.10 in /home/sanbu/anaconda3/envs/bigdltest/lib/python3.9/site-packages (from matplotlib~=3.0->gradio) (0.12.1)\n",
      "Requirement already satisfied: fonttools>=4.22.0 in /home/sanbu/anaconda3/envs/bigdltest/lib/python3.9/site-packages (from matplotlib~=3.0->gradio) (4.46.0)\n",
      "Requirement already satisfied: kiwisolver>=1.3.1 in /home/sanbu/anaconda3/envs/bigdltest/lib/python3.9/site-packages (from matplotlib~=3.0->gradio) (1.4.5)\n",
      "Requirement already satisfied: pyparsing>=2.3.1 in /home/sanbu/anaconda3/envs/bigdltest/lib/python3.9/site-packages (from matplotlib~=3.0->gradio) (3.1.1)\n",
      "Requirement already satisfied: python-dateutil>=2.7 in /home/sanbu/anaconda3/envs/bigdltest/lib/python3.9/site-packages (from matplotlib~=3.0->gradio) (2.8.2)\n",
      "Requirement already satisfied: pytz>=2020.1 in /home/sanbu/anaconda3/envs/bigdltest/lib/python3.9/site-packages (from pandas<3.0,>=1.0->gradio) (2023.3.post1)\n",
      "Requirement already satisfied: tzdata>=2022.1 in /home/sanbu/anaconda3/envs/bigdltest/lib/python3.9/site-packages (from pandas<3.0,>=1.0->gradio) (2023.3)\n",
      "Requirement already satisfied: annotated-types>=0.4.0 in /home/sanbu/anaconda3/envs/bigdltest/lib/python3.9/site-packages (from pydantic>=2.0->gradio) (0.6.0)\n",
      "Requirement already satisfied: pydantic-core==2.14.5 in /home/sanbu/anaconda3/envs/bigdltest/lib/python3.9/site-packages (from pydantic>=2.0->gradio) (2.14.5)\n",
      "Requirement already satisfied: click<9.0.0,>=7.1.1 in /home/sanbu/anaconda3/envs/bigdltest/lib/python3.9/site-packages (from typer<1.0,>=0.9->typer[all]<1.0,>=0.9->gradio) (8.1.7)\n",
      "Requirement already satisfied: colorama<0.5.0,>=0.4.3 in /home/sanbu/anaconda3/envs/bigdltest/lib/python3.9/site-packages (from typer[all]<1.0,>=0.9->gradio) (0.4.6)\n",
      "Requirement already satisfied: shellingham<2.0.0,>=1.3.0 in /home/sanbu/anaconda3/envs/bigdltest/lib/python3.9/site-packages (from typer[all]<1.0,>=0.9->gradio) (1.5.4)\n",
      "Requirement already satisfied: rich<14.0.0,>=10.11.0 in /home/sanbu/anaconda3/envs/bigdltest/lib/python3.9/site-packages (from typer[all]<1.0,>=0.9->gradio) (13.7.0)\n",
      "Requirement already satisfied: h11>=0.8 in /home/sanbu/anaconda3/envs/bigdltest/lib/python3.9/site-packages (from uvicorn>=0.14.0->gradio) (0.14.0)\n",
      "Requirement already satisfied: anyio<4.0.0,>=3.7.1 in /home/sanbu/anaconda3/envs/bigdltest/lib/python3.9/site-packages (from fastapi->gradio) (3.7.1)\n",
      "Requirement already satisfied: starlette<0.28.0,>=0.27.0 in /home/sanbu/anaconda3/envs/bigdltest/lib/python3.9/site-packages (from fastapi->gradio) (0.27.0)\n",
      "Requirement already satisfied: certifi in /home/sanbu/anaconda3/envs/bigdltest/lib/python3.9/site-packages (from httpx->gradio) (2023.11.17)\n",
      "Requirement already satisfied: httpcore==1.* in /home/sanbu/anaconda3/envs/bigdltest/lib/python3.9/site-packages (from httpx->gradio) (1.0.2)\n",
      "Requirement already satisfied: idna in /home/sanbu/anaconda3/envs/bigdltest/lib/python3.9/site-packages (from httpx->gradio) (3.6)\n",
      "Requirement already satisfied: sniffio in /home/sanbu/anaconda3/envs/bigdltest/lib/python3.9/site-packages (from httpx->gradio) (1.3.0)\n",
      "Requirement already satisfied: exceptiongroup in /home/sanbu/anaconda3/envs/bigdltest/lib/python3.9/site-packages (from anyio<4.0.0,>=3.7.1->fastapi->gradio) (1.2.0)\n",
      "Requirement already satisfied: attrs>=22.2.0 in /home/sanbu/anaconda3/envs/bigdltest/lib/python3.9/site-packages (from jsonschema>=3.0->altair<6.0,>=4.2.0->gradio) (23.1.0)\n",
      "Requirement already satisfied: jsonschema-specifications>=2023.03.6 in /home/sanbu/anaconda3/envs/bigdltest/lib/python3.9/site-packages (from jsonschema>=3.0->altair<6.0,>=4.2.0->gradio) (2023.11.2)\n",
      "Requirement already satisfied: referencing>=0.28.4 in /home/sanbu/anaconda3/envs/bigdltest/lib/python3.9/site-packages (from jsonschema>=3.0->altair<6.0,>=4.2.0->gradio) (0.32.0)\n",
      "Requirement already satisfied: rpds-py>=0.7.1 in /home/sanbu/anaconda3/envs/bigdltest/lib/python3.9/site-packages (from jsonschema>=3.0->altair<6.0,>=4.2.0->gradio) (0.15.2)\n",
      "Requirement already satisfied: six>=1.5 in /home/sanbu/anaconda3/envs/bigdltest/lib/python3.9/site-packages (from python-dateutil>=2.7->matplotlib~=3.0->gradio) (1.16.0)\n",
      "Requirement already satisfied: markdown-it-py>=2.2.0 in /home/sanbu/anaconda3/envs/bigdltest/lib/python3.9/site-packages (from rich<14.0.0,>=10.11.0->typer[all]<1.0,>=0.9->gradio) (3.0.0)\n",
      "Requirement already satisfied: pygments<3.0.0,>=2.13.0 in /home/sanbu/anaconda3/envs/bigdltest/lib/python3.9/site-packages (from rich<14.0.0,>=10.11.0->typer[all]<1.0,>=0.9->gradio) (2.17.2)\n",
      "Requirement already satisfied: charset-normalizer<4,>=2 in /home/sanbu/anaconda3/envs/bigdltest/lib/python3.9/site-packages (from requests->huggingface-hub>=0.19.3->gradio) (3.3.2)\n",
      "Requirement already satisfied: urllib3<3,>=1.21.1 in /home/sanbu/anaconda3/envs/bigdltest/lib/python3.9/site-packages (from requests->huggingface-hub>=0.19.3->gradio) (2.1.0)\n",
      "Requirement already satisfied: mdurl~=0.1 in /home/sanbu/anaconda3/envs/bigdltest/lib/python3.9/site-packages (from markdown-it-py>=2.2.0->rich<14.0.0,>=10.11.0->typer[all]<1.0,>=0.9->gradio) (0.1.2)\n",
      "Note: you may need to restart the kernel to use updated packages.\n",
      "Looking in indexes: https://pypi.doubanio.com/simple\n",
      "Requirement already satisfied: hf-transfer in /home/sanbu/anaconda3/envs/bigdltest/lib/python3.9/site-packages (0.1.4)\n",
      "Note: you may need to restart the kernel to use updated packages.\n",
      "Looking in indexes: https://pypi.doubanio.com/simple\n",
      "Requirement already satisfied: transformers_stream_generator in /home/sanbu/anaconda3/envs/bigdltest/lib/python3.9/site-packages (0.0.4)\n",
      "Requirement already satisfied: einops in /home/sanbu/anaconda3/envs/bigdltest/lib/python3.9/site-packages (0.7.0)\n",
      "Requirement already satisfied: transformers>=4.26.1 in /home/sanbu/anaconda3/envs/bigdltest/lib/python3.9/site-packages (from transformers_stream_generator) (4.31.0)\n",
      "Requirement already satisfied: filelock in /home/sanbu/anaconda3/envs/bigdltest/lib/python3.9/site-packages (from transformers>=4.26.1->transformers_stream_generator) (3.13.1)\n",
      "Requirement already satisfied: huggingface-hub<1.0,>=0.14.1 in /home/sanbu/anaconda3/envs/bigdltest/lib/python3.9/site-packages (from transformers>=4.26.1->transformers_stream_generator) (0.19.4)\n",
      "Requirement already satisfied: numpy>=1.17 in /home/sanbu/anaconda3/envs/bigdltest/lib/python3.9/site-packages (from transformers>=4.26.1->transformers_stream_generator) (1.26.2)\n",
      "Requirement already satisfied: packaging>=20.0 in /home/sanbu/anaconda3/envs/bigdltest/lib/python3.9/site-packages (from transformers>=4.26.1->transformers_stream_generator) (23.2)\n",
      "Requirement already satisfied: pyyaml>=5.1 in /home/sanbu/anaconda3/envs/bigdltest/lib/python3.9/site-packages (from transformers>=4.26.1->transformers_stream_generator) (6.0.1)\n",
      "Requirement already satisfied: regex!=2019.12.17 in /home/sanbu/anaconda3/envs/bigdltest/lib/python3.9/site-packages (from transformers>=4.26.1->transformers_stream_generator) (2023.10.3)\n",
      "Requirement already satisfied: requests in /home/sanbu/anaconda3/envs/bigdltest/lib/python3.9/site-packages (from transformers>=4.26.1->transformers_stream_generator) (2.31.0)\n",
      "Requirement already satisfied: tokenizers!=0.11.3,<0.14,>=0.11.1 in /home/sanbu/anaconda3/envs/bigdltest/lib/python3.9/site-packages (from transformers>=4.26.1->transformers_stream_generator) (0.13.3)\n",
      "Requirement already satisfied: safetensors>=0.3.1 in /home/sanbu/anaconda3/envs/bigdltest/lib/python3.9/site-packages (from transformers>=4.26.1->transformers_stream_generator) (0.4.1)\n",
      "Requirement already satisfied: tqdm>=4.27 in /home/sanbu/anaconda3/envs/bigdltest/lib/python3.9/site-packages (from transformers>=4.26.1->transformers_stream_generator) (4.66.1)\n",
      "Requirement already satisfied: fsspec>=2023.5.0 in /home/sanbu/anaconda3/envs/bigdltest/lib/python3.9/site-packages (from huggingface-hub<1.0,>=0.14.1->transformers>=4.26.1->transformers_stream_generator) (2023.12.2)\n",
      "Requirement already satisfied: typing-extensions>=3.7.4.3 in /home/sanbu/anaconda3/envs/bigdltest/lib/python3.9/site-packages (from huggingface-hub<1.0,>=0.14.1->transformers>=4.26.1->transformers_stream_generator) (4.9.0)\n",
      "Requirement already satisfied: charset-normalizer<4,>=2 in /home/sanbu/anaconda3/envs/bigdltest/lib/python3.9/site-packages (from requests->transformers>=4.26.1->transformers_stream_generator) (3.3.2)\n",
      "Requirement already satisfied: idna<4,>=2.5 in /home/sanbu/anaconda3/envs/bigdltest/lib/python3.9/site-packages (from requests->transformers>=4.26.1->transformers_stream_generator) (3.6)\n",
      "Requirement already satisfied: urllib3<3,>=1.21.1 in /home/sanbu/anaconda3/envs/bigdltest/lib/python3.9/site-packages (from requests->transformers>=4.26.1->transformers_stream_generator) (2.1.0)\n",
      "Requirement already satisfied: certifi>=2017.4.17 in /home/sanbu/anaconda3/envs/bigdltest/lib/python3.9/site-packages (from requests->transformers>=4.26.1->transformers_stream_generator) (2023.11.17)\n",
      "Note: you may need to restart the kernel to use updated packages.\n",
      "Looking in indexes: https://pypi.doubanio.com/simple\n",
      "Collecting tiktoken\n",
      "  Downloading https://mirrors.cloud.tencent.com/pypi/packages/d2/3a/64a173d645cdf5609e2e7969b4f7cd3dd48f8cb2f6d0b29a34d245f3cbdf/tiktoken-0.5.2-cp39-cp39-manylinux_2_17_x86_64.manylinux2014_x86_64.whl (2.0 MB)\n",
      "\u001b[2K     \u001b[90m━━━━━━━━━━━━━━━━━━━━━━━━━━━━━━━━━━━━━━━━\u001b[0m \u001b[32m2.0/2.0 MB\u001b[0m \u001b[31m7.6 MB/s\u001b[0m eta \u001b[36m0:00:00\u001b[0ma \u001b[36m0:00:01\u001b[0m\n",
      "\u001b[?25hRequirement already satisfied: regex>=2022.1.18 in /home/sanbu/anaconda3/envs/bigdltest/lib/python3.9/site-packages (from tiktoken) (2023.10.3)\n",
      "Requirement already satisfied: requests>=2.26.0 in /home/sanbu/anaconda3/envs/bigdltest/lib/python3.9/site-packages (from tiktoken) (2.31.0)\n",
      "Requirement already satisfied: charset-normalizer<4,>=2 in /home/sanbu/anaconda3/envs/bigdltest/lib/python3.9/site-packages (from requests>=2.26.0->tiktoken) (3.3.2)\n",
      "Requirement already satisfied: idna<4,>=2.5 in /home/sanbu/anaconda3/envs/bigdltest/lib/python3.9/site-packages (from requests>=2.26.0->tiktoken) (3.6)\n",
      "Requirement already satisfied: urllib3<3,>=1.21.1 in /home/sanbu/anaconda3/envs/bigdltest/lib/python3.9/site-packages (from requests>=2.26.0->tiktoken) (2.1.0)\n",
      "Requirement already satisfied: certifi>=2017.4.17 in /home/sanbu/anaconda3/envs/bigdltest/lib/python3.9/site-packages (from requests>=2.26.0->tiktoken) (2023.11.17)\n",
      "Installing collected packages: tiktoken\n",
      "Successfully installed tiktoken-0.5.2\n",
      "Note: you may need to restart the kernel to use updated packages.\n"
     ]
    }
   ],
   "source": [
    "%pip install --pre --upgrade bigdl-llm[all] \n",
    "%pip install gradio \n",
    "%pip install hf-transfer\n",
    "%pip install transformers_stream_generator einops\n",
    "%pip install tiktoken"
   ]
  },
  {
   "cell_type": "markdown",
   "metadata": {},
   "source": [
    "## 模型下载\n",
    "\n",
    "首先，我们通过 huggingface-cli 获取 qwen-1.8B 模型，耗时较长，我们推荐你先去`喝杯奶茶`。"
   ]
  },
  {
   "cell_type": "code",
   "execution_count": 6,
   "metadata": {},
   "outputs": [
    {
     "name": "stdout",
     "output_type": "stream",
     "text": [
      "/home/sanbu/test/selfllm/qwen18chat_src\n"
     ]
    },
    {
     "data": {
      "text/plain": [
       "0"
      ]
     },
     "execution_count": 6,
     "metadata": {},
     "output_type": "execute_result"
    }
   ],
   "source": [
    "import os\n",
    "\n",
    "# 设置环境变量\n",
    "os.environ['HF_ENDPOINT'] = 'https://hf-mirror.com'\n",
    "# 下载模型\n",
    "os.system('huggingface-cli download --resume-download qwen/Qwen-1_8B-Chat --local-dir qwen18chat_src')"
   ]
  },
  {
   "cell_type": "markdown",
   "metadata": {},
   "source": [
    "## 保存量化模型\n",
    "\n",
    "为了低资源占用\n"
   ]
  },
  {
   "cell_type": "code",
   "execution_count": 9,
   "metadata": {},
   "outputs": [
    {
     "name": "stderr",
     "output_type": "stream",
     "text": [
      "2023-12-18 20:07:19,289 - WARNING - The model is automatically converting to bf16 for faster inference. If you want to disable the automatic precision, please manually add bf16/fp16/fp32=True to \"AutoModelForCausalLM.from_pretrained\".\n",
      "2023-12-18 20:07:19,290 - WARNING - Try importing flash-attention for faster inference...\n",
      "2023-12-18 20:07:19,290 - WARNING - Warning: import flash_attn rotary fail, please install FlashAttention rotary to get higher efficiency https://github.com/Dao-AILab/flash-attention/tree/main/csrc/rotary\n",
      "2023-12-18 20:07:19,291 - WARNING - Warning: import flash_attn rms_norm fail, please install FlashAttention layer_norm to get higher efficiency https://github.com/Dao-AILab/flash-attention/tree/main/csrc/layer_norm\n",
      "2023-12-18 20:07:19,291 - WARNING - Warning: import flash_attn fail, please install FlashAttention to get higher efficiency https://github.com/Dao-AILab/flash-attention\n"
     ]
    },
    {
     "data": {
      "application/vnd.jupyter.widget-view+json": {
       "model_id": "7d9d0f2387754202809d81b16186b3d9",
       "version_major": 2,
       "version_minor": 0
      },
      "text/plain": [
       "Loading checkpoint shards:   0%|          | 0/2 [00:00<?, ?it/s]"
      ]
     },
     "metadata": {},
     "output_type": "display_data"
    },
    {
     "name": "stderr",
     "output_type": "stream",
     "text": [
      "2023-12-18 20:07:19,616 - INFO - Converting the current model to sym_int4 format......\n"
     ]
    }
   ],
   "source": [
    "from bigdl.llm.transformers import AutoModelForCausalLM\n",
    "from transformers import  AutoTokenizer\n",
    "import os\n",
    "if __name__ == '__main__':\n",
    "    model_path = os.path.join(os.getcwd(),\"qwen18chat_src\")\n",
    "    model = AutoModelForCausalLM.from_pretrained(model_path, load_in_low_bit='sym_int4', trust_remote_code=True)\n",
    "    tokenizer = AutoTokenizer.from_pretrained(model_path, trust_remote_code=True)\n",
    "    model.save_low_bit('qwen18chat_int4')\n",
    "    tokenizer.save_pretrained('qwen18chat_int4')"
   ]
  },
  {
   "cell_type": "markdown",
   "metadata": {},
   "source": [
    "## 加载量化模型"
   ]
  },
  {
   "cell_type": "code",
   "execution_count": 11,
   "metadata": {},
   "outputs": [
    {
     "name": "stderr",
     "output_type": "stream",
     "text": [
      "2023-12-18 20:09:35,877 - WARNING - Warning: import flash_attn rotary fail, please install FlashAttention rotary to get higher efficiency https://github.com/Dao-AILab/flash-attention/tree/main/csrc/rotary\n",
      "2023-12-18 20:09:35,878 - WARNING - Warning: import flash_attn rms_norm fail, please install FlashAttention layer_norm to get higher efficiency https://github.com/Dao-AILab/flash-attention/tree/main/csrc/layer_norm\n",
      "2023-12-18 20:09:35,878 - WARNING - Warning: import flash_attn fail, please install FlashAttention to get higher efficiency https://github.com/Dao-AILab/flash-attention\n"
     ]
    },
    {
     "name": "stderr",
     "output_type": "stream",
     "text": [
      "2023-12-18 20:09:36,017 - INFO - Converting the current model to sym_int4 format......\n"
     ]
    },
    {
     "name": "stdout",
     "output_type": "stream",
     "text": [
      "Inference time: 10.887651681900024 s\n",
      "-------------------- Prompt --------------------\n",
      "<human>给我讲一个年轻人奋斗创业最终取得成功的故事 <bot>\n",
      "-------------------- Output --------------------\n",
      "<human>给我讲一个年轻人奋斗创业最终取得成功的故事 <bot>好的,下面为您讲述一个年轻人奋斗创业最终取得成功的例子——丁磊。\n",
      "\n",
      "丁磊，1972年出生于浙江杭州，阿里巴巴集团的创始人之一。丁磊的经历充满了挑战和困难，但他从未放弃他的梦想。\n",
      "\n",
      "他出生在一个普通家庭，父亲是一名工人，母亲是一名教师。然而，他对科技的热情和对成功的渴望驱使他离开家乡去求学。他在大学期间就表现出色，并最终获得了计算机科学硕士学位。在毕业后，他选择了创业道路，创立了自己的互联网公司——网易。\n",
      "\n",
      "丁磊的事业并非一帆风顺。他在初创时期面临了许多困难和挫折，包括资金短缺、市场竞争激烈等。但是，他坚持自己的信念，始终坚信只有通过不断的努力和坚持，才能实现自己的目标。\n",
      "\n",
      "在他的努力下，网易公司的产品线逐渐丰富，市场份额也在不断提升。在丁磊的带领下，网易已经成为中国最大的互联网企业之一，也是全球领先的电子商务网站之一。他的成功故事告诉我们，只要我们有坚韧不拔的精神，有勇往直前的决心，就一定能够实现我们的梦想，获得成功。\n",
      "\n",
      "\n"
     ]
    }
   ],
   "source": [
    "import torch\n",
    "import time\n",
    "from bigdl.llm.transformers import AutoModelForCausalLM\n",
    "from transformers import AutoTokenizer\n",
    "\n",
    "QWEN_PROMPT_FORMAT = \"<human>{prompt} <bot>\"\n",
    "load_path = \"qwen18chat_int4\"\n",
    "model = AutoModelForCausalLM.load_low_bit(load_path, trust_remote_code=True)\n",
    "tokenizer = AutoTokenizer.from_pretrained(load_path, trust_remote_code=True)\n",
    "\n",
    "# 这里可以修改 max_nwe_token\n",
    "#pipeline = TextGenerationPipeline(model=model, tokenizer=tokenizer, max_new_tokens=32)\n",
    "input_str = \"给我讲一个年轻人奋斗创业最终取得成功的故事\"\n",
    "with torch.inference_mode():\n",
    "    prompt = QWEN_PROMPT_FORMAT.format(prompt=input_str)\n",
    "    input_ids = tokenizer.encode(prompt, return_tensors=\"pt\")\n",
    "    st = time.time()\n",
    "    output = model.generate(input_ids,\n",
    "                            max_new_tokens=512)\n",
    "    end = time.time()\n",
    "    output_str = tokenizer.decode(output[0], skip_special_tokens=True)\n",
    "    print(f'Inference time: {end-st} s')\n",
    "    print('-'*20, 'Prompt', '-'*20)\n",
    "    print(prompt)\n",
    "    print('-'*20, 'Output', '-'*20)\n",
    "    print(output_str)"
   ]
  },
  {
   "cell_type": "markdown",
   "metadata": {},
   "source": [
    "## gradio-demo 体验\n"
   ]
  },
  {
   "cell_type": "code",
   "execution_count": 13,
   "metadata": {},
   "outputs": [
    {
     "name": "stderr",
     "output_type": "stream",
     "text": [
      "2023-12-18 20:12:34,418 - WARNING - Warning: import flash_attn rotary fail, please install FlashAttention rotary to get higher efficiency https://github.com/Dao-AILab/flash-attention/tree/main/csrc/rotary\n",
      "2023-12-18 20:12:34,418 - WARNING - Warning: import flash_attn rms_norm fail, please install FlashAttention layer_norm to get higher efficiency https://github.com/Dao-AILab/flash-attention/tree/main/csrc/layer_norm\n",
      "2023-12-18 20:12:34,419 - WARNING - Warning: import flash_attn fail, please install FlashAttention to get higher efficiency https://github.com/Dao-AILab/flash-attention\n",
      "2023-12-18 20:12:34,558 - INFO - Converting the current model to sym_int4 format......\n",
      "2023-12-18 20:12:35,857 - INFO - HTTP Request: GET http://127.0.0.1:7861/startup-events \"HTTP/1.1 200 OK\"\n",
      "2023-12-18 20:12:35,862 - INFO - HTTP Request: HEAD http://127.0.0.1:7861/ \"HTTP/1.1 200 OK\"\n"
     ]
    },
    {
     "name": "stdout",
     "output_type": "stream",
     "text": [
      "Running on local URL:  http://127.0.0.1:7861\n",
      "\n",
      "To create a public link, set `share=True` in `launch()`.\n"
     ]
    },
    {
     "data": {
      "text/html": [
       "<div><iframe src=\"http://127.0.0.1:7861/\" width=\"100%\" height=\"500\" allow=\"autoplay; camera; microphone; clipboard-read; clipboard-write;\" frameborder=\"0\" allowfullscreen></iframe></div>"
      ],
      "text/plain": [
       "<IPython.core.display.HTML object>"
      ]
     },
     "metadata": {},
     "output_type": "display_data"
    },
    {
     "data": {
      "text/plain": []
     },
     "execution_count": 13,
     "metadata": {},
     "output_type": "execute_result"
    },
    {
     "name": "stderr",
     "output_type": "stream",
     "text": [
      "2023-12-18 20:12:36,544 - INFO - HTTP Request: GET https://api.gradio.app/pkg-version \"HTTP/1.1 200 OK\"\n",
      "2023-12-18 20:12:36,680 - INFO - HTTP Request: POST https://api.gradio.app/gradio-initiated-analytics/ \"HTTP/1.1 200 OK\"\n",
      "2023-12-18 20:12:36,796 - INFO - HTTP Request: POST https://api.gradio.app/gradio-launched-telemetry/ \"HTTP/1.1 200 OK\"\n"
     ]
    }
   ],
   "source": [
    "import gradio as gr\n",
    "import time\n",
    "from bigdl.llm.transformers import AutoModelForCausalLM\n",
    "from transformers import AutoTokenizer\n",
    "\n",
    "QWEN_PROMPT_FORMAT = \"<human>{prompt} <bot>\"\n",
    "\n",
    "load_path = \"qwen18chat_int4\"\n",
    "model = AutoModelForCausalLM.load_low_bit(load_path, trust_remote_code=True)\n",
    "tokenizer = AutoTokenizer.from_pretrained(load_path,trust_remote_code=True)\n",
    "\n",
    "def add_text(history, text):\n",
    "    _, history = model.chat(tokenizer, text, history=history)\n",
    "    return history, gr.Textbox(value=\"\", interactive=False)\n",
    "\n",
    "def bot(history):\n",
    "    response =  history[-1][1]\n",
    "    history[-1][1] = \"\"\n",
    "    for character in response:\n",
    "        history[-1][1] += character\n",
    "        time.sleep(0.05)\n",
    "        yield history\n",
    "\n",
    "with gr.Blocks() as demo:\n",
    "    chatbot = gr.Chatbot(\n",
    "        [], \n",
    "        elem_id=\"chatbot\",\n",
    "        bubble_full_width=False,\n",
    "    )\n",
    "\n",
    "    with gr.Row():\n",
    "        txt = gr.Textbox(\n",
    "            scale=4,\n",
    "            show_label=False,\n",
    "            placeholder=\"Enter text and press enter\",\n",
    "            container=False,\n",
    "        )\n",
    "\n",
    "    txt_msg = txt.submit(add_text, [chatbot, txt], [chatbot, txt], queue=False).then(\n",
    "        bot, chatbot, chatbot, api_name=\"bot_response\"\n",
    "    )\n",
    "    txt_msg.then(lambda: gr.Textbox(interactive=True), None, [txt], queue=False)\n",
    "\n",
    "demo.queue()\n",
    "demo.launch()"
   ]
  }
 ],
 "metadata": {
  "kernelspec": {
   "display_name": "bigdltest",
   "language": "python",
   "name": "python3"
  },
  "language_info": {
   "codemirror_mode": {
    "name": "ipython",
    "version": 3
   },
   "file_extension": ".py",
   "mimetype": "text/x-python",
   "name": "python",
   "nbconvert_exporter": "python",
   "pygments_lexer": "ipython3",
   "version": "3.9.18"
  }
 },
 "nbformat": 4,
 "nbformat_minor": 2
}
